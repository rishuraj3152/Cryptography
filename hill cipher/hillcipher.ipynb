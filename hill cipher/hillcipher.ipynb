{
 "cells": [
  {
   "cell_type": "code",
   "execution_count": 1,
   "metadata": {},
   "outputs": [],
   "source": [
    "##implementing hill cipher with given key and its inverse\n",
    "import numpy as np"
   ]
  },
  {
   "cell_type": "code",
   "execution_count": 2,
   "metadata": {},
   "outputs": [
    {
     "name": "stdout",
     "output_type": "stream",
     "text": [
      "9\n"
     ]
    }
   ],
   "source": [
    "plaintext=\"code is ready\"\n",
    "dictionary={'a':0,'b':1,'c':2,'d':3,'e':4,'f':5,'g':6,'h':7,'i':8,'j':9,'k':10,'l':11,'m':12,'n':13,'o':14,'p':15,'q':16,\n",
    "           'r':17,'s':18,'t':19,'u':20,'v':21,'w':22,'x':23,'y':24,'z':25}\n",
    "print(dictionary['j'])\n",
    "size=len(plaintext)\n",
    "l=[]"
   ]
  },
  {
   "cell_type": "code",
   "execution_count": 3,
   "metadata": {},
   "outputs": [
    {
     "name": "stdout",
     "output_type": "stream",
     "text": [
      "[[ 2 14  3  4]\n",
      " [ 8 18 17  4]\n",
      " [ 0  3 24 25]]\n"
     ]
    }
   ],
   "source": [
    "for i in range(0,size):\n",
    "    if(plaintext[i]!=' '):\n",
    "        temp=dictionary.get(plaintext[i])\n",
    "        l.append(temp)\n",
    "l.append(dictionary.get('z'))\n",
    "ll=[]\n",
    "ll.append(l[0:4])\n",
    "ll.append(l[4:8])\n",
    "ll.append(l[8:12])\n",
    "ptext=np.array(ll)\n",
    "print(ptext)"
   ]
  },
  {
   "cell_type": "code",
   "execution_count": 9,
   "metadata": {},
   "outputs": [
    {
     "name": "stdout",
     "output_type": "stream",
     "text": [
      "[[-370. 1437. -716.  329.]\n",
      " [-253.  572.  -31.   17.]\n",
      " [ 181. -495.  -87.  175.]\n",
      " [ 391. -884.  586. -385.]]\n",
      "the cipher text is:\n",
      "[[14  7 10 13]\n",
      " [ 8  7  6  7]\n",
      " [ 5  8 18 18]]\n",
      "The plain text is:\n",
      "[[25.97060314  3.89254942 24.22959959  0.74505829]\n",
      " [25.53978713  3.21439432 24.80131779  0.56056766]\n",
      " [ 3.25494171 19.38013178  2.61226559 24.9868221 ]]\n"
     ]
    }
   ],
   "source": [
    "key = [[9,7,11,13],[4,7,5,6],[2,21,14,9],[3,23,21,8]]\n",
    "keytempinv=np.linalg.inv(key)\n",
    "print(keytempinv*1973)\n",
    "#keytempinv = [[2,15,22,3],[15,0,19,3],[9,9,3,11],[17,0,4,7]]\n",
    "\n",
    "cipher=np.matmul(ptext,key)\n",
    "\n",
    "for i in range(0,3):\n",
    "    for j in range(0,4):\n",
    "        cipher[i][j]=cipher[i][j]%26\n",
    "\n",
    "print(\"the cipher text is:\")\n",
    "print(cipher)\n",
    "\n",
    "decipher=np.matmul(cipher,keytempinv)\n",
    "\n",
    "for i in range(0,3):\n",
    "    for j in range(0,4):\n",
    "        decipher[i][j]=decipher[i][j]%26\n",
    "print(\"The plain text is:\")\n",
    "print(decipher)"
   ]
  },
  {
   "cell_type": "code",
   "execution_count": null,
   "metadata": {},
   "outputs": [],
   "source": []
  }
 ],
 "metadata": {
  "kernelspec": {
   "display_name": "Python 3",
   "language": "python",
   "name": "python3"
  },
  "language_info": {
   "codemirror_mode": {
    "name": "ipython",
    "version": 3
   },
   "file_extension": ".py",
   "mimetype": "text/x-python",
   "name": "python",
   "nbconvert_exporter": "python",
   "pygments_lexer": "ipython3",
   "version": "3.7.1"
  }
 },
 "nbformat": 4,
 "nbformat_minor": 2
}
